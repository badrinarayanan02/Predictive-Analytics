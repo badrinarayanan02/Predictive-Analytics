{
  "nbformat": 4,
  "nbformat_minor": 0,
  "metadata": {
    "colab": {
      "provenance": []
    },
    "kernelspec": {
      "name": "python3",
      "display_name": "Python 3"
    },
    "language_info": {
      "name": "python"
    }
  },
  "cells": [
    {
      "cell_type": "code",
      "source": [
        "!pip install deap\n"
      ],
      "metadata": {
        "colab": {
          "base_uri": "https://localhost:8080/"
        },
        "id": "6dv3Kyuqxg0K",
        "outputId": "e234715a-2e42-4625-87ec-0d5147061e61"
      },
      "execution_count": 2,
      "outputs": [
        {
          "output_type": "stream",
          "name": "stdout",
          "text": [
            "Collecting deap\n",
            "  Downloading deap-1.4.1-cp310-cp310-manylinux_2_5_x86_64.manylinux1_x86_64.manylinux_2_17_x86_64.manylinux2014_x86_64.whl.metadata (13 kB)\n",
            "Requirement already satisfied: numpy in /usr/local/lib/python3.10/dist-packages (from deap) (1.26.4)\n",
            "Downloading deap-1.4.1-cp310-cp310-manylinux_2_5_x86_64.manylinux1_x86_64.manylinux_2_17_x86_64.manylinux2014_x86_64.whl (135 kB)\n",
            "\u001b[2K   \u001b[90m━━━━━━━━━━━━━━━━━━━━━━━━━━━━━━━━━━━━━━━━\u001b[0m \u001b[32m135.4/135.4 kB\u001b[0m \u001b[31m2.6 MB/s\u001b[0m eta \u001b[36m0:00:00\u001b[0m\n",
            "\u001b[?25hInstalling collected packages: deap\n",
            "Successfully installed deap-1.4.1\n"
          ]
        }
      ]
    },
    {
      "cell_type": "code",
      "source": [
        "import numpy as np\n",
        "import pandas as pd\n",
        "from sklearn.model_selection import train_test_split\n",
        "from sklearn.linear_model import LinearRegression\n",
        "from sklearn.metrics import mean_squared_error, r2_score\n",
        "from deap import base, creator, tools, algorithms\n",
        "import random"
      ],
      "metadata": {
        "id": "XwwqN8GGySMG"
      },
      "execution_count": 5,
      "outputs": []
    },
    {
      "cell_type": "code",
      "source": [
        "# Generate synthetic weather data\n",
        "def generate_weather_data(region_name, n_samples=300):\n",
        "    np.random.seed(42 if region_name == \"North\" else 99)\n",
        "    dates = pd.date_range(start=\"2021-11-01\", end=\"2022-01-31\", freq='D').tolist()\n",
        "    temp = np.random.uniform(0 if region_name == \"North\" else 15,\n",
        "                             15 if region_name == \"North\" else 30,\n",
        "                             size=len(dates))\n",
        "    humidity = np.random.uniform(40, 90, size=len(dates))\n",
        "    wind_speed = np.random.uniform(0, 15, size=len(dates))\n",
        "    data = pd.DataFrame({\n",
        "        \"Date\": dates,\n",
        "        \"Temperature\": temp,\n",
        "        \"Humidity\": humidity,\n",
        "        \"WindSpeed\": wind_speed\n",
        "    })\n",
        "    return data"
      ],
      "metadata": {
        "id": "_ctz1jOiydnM"
      },
      "execution_count": 6,
      "outputs": []
    },
    {
      "cell_type": "code",
      "source": [
        "# Create datasets for North and South regions\n",
        "north_data = generate_weather_data(\"North\")\n",
        "south_data = generate_weather_data(\"South\")"
      ],
      "metadata": {
        "id": "Hi5qV_6nydpK"
      },
      "execution_count": 7,
      "outputs": []
    },
    {
      "cell_type": "code",
      "source": [
        "# Preprocess data\n",
        "def preprocess_data(data):\n",
        "    X = data[[\"Humidity\", \"WindSpeed\"]]  # Features\n",
        "    y = data[\"Temperature\"]  # Target\n",
        "    return train_test_split(X, y, test_size=0.2, random_state=42)\n",
        "\n",
        "X_train_north, X_test_north, y_train_north, y_test_north = preprocess_data(north_data)\n",
        "X_train_south, X_test_south, y_train_south, y_test_south = preprocess_data(south_data)"
      ],
      "metadata": {
        "id": "jWeCuD7yydrz"
      },
      "execution_count": 8,
      "outputs": []
    },
    {
      "cell_type": "code",
      "source": [
        "# Without Genetic Algorithm\n",
        "def train_model(X_train, y_train, X_test, y_test):\n",
        "    model = LinearRegression()\n",
        "    model.fit(X_train, y_train)\n",
        "    predictions = model.predict(X_test)\n",
        "    mse = mean_squared_error(y_test, predictions)\n",
        "    r2 = r2_score(y_test, predictions)\n",
        "    return mse, r2\n",
        "\n",
        "mse_north, r2_north = train_model(X_train_north, y_train_north, X_test_north, y_test_north)\n",
        "mse_south, r2_south = train_model(X_train_south, y_train_south, X_test_south, y_test_south)"
      ],
      "metadata": {
        "id": "lucWcTmMySOn"
      },
      "execution_count": 9,
      "outputs": []
    },
    {
      "cell_type": "code",
      "source": [
        "print(\"Without GA:\")\n",
        "print(f\"North Region - MSE: {mse_north}, R2: {r2_north}\")\n",
        "print(f\"South Region - MSE: {mse_south}, R2: {r2_south}\")\n"
      ],
      "metadata": {
        "colab": {
          "base_uri": "https://localhost:8080/"
        },
        "id": "7YWl0fk2ySQz",
        "outputId": "6fe552eb-6e9e-4371-98fd-b39d7b83e525"
      },
      "execution_count": 10,
      "outputs": [
        {
          "output_type": "stream",
          "name": "stdout",
          "text": [
            "Without GA:\n",
            "North Region - MSE: 21.016798201090662, R2: -0.05482277608066788\n",
            "South Region - MSE: 20.25695821203497, R2: -0.07131426570565158\n"
          ]
        }
      ]
    },
    {
      "cell_type": "code",
      "source": [
        "from sklearn.preprocessing import StandardScaler\n",
        "\n",
        "def evaluate_model(individual, X_train, y_train, X_test, y_test):\n",
        "    alpha = individual[0]  # Example hyperparameter\n",
        "    # Normalize data manually\n",
        "    scaler = StandardScaler()\n",
        "    X_train_scaled = scaler.fit_transform(X_train)\n",
        "    X_test_scaled = scaler.transform(X_test)\n",
        "\n",
        "    model = LinearRegression()  # No 'normalize' parameter\n",
        "    model.fit(X_train_scaled, y_train)\n",
        "    predictions = model.predict(X_test_scaled)\n",
        "    mse = mean_squared_error(y_test, predictions)\n",
        "    return mse,"
      ],
      "metadata": {
        "id": "KOONTQAgySTI"
      },
      "execution_count": 11,
      "outputs": []
    },
    {
      "cell_type": "code",
      "source": [
        "def genetic_algorithm(X_train, y_train, X_test, y_test):\n",
        "    creator.create(\"FitnessMin\", base.Fitness, weights=(-1.0,))\n",
        "    creator.create(\"Individual\", list, fitness=creator.FitnessMin)\n",
        "    toolbox = base.Toolbox()\n",
        "    toolbox.register(\"attr_float\", random.uniform, 0, 1)\n",
        "    toolbox.register(\"individual\", tools.initRepeat, creator.Individual, toolbox.attr_float, n=1)\n",
        "    toolbox.register(\"population\", tools.initRepeat, list, toolbox.individual)\n",
        "    toolbox.register(\"evaluate\", evaluate_model, X_train=X_train, y_train=y_train, X_test=X_test, y_test=y_test)\n",
        "    toolbox.register(\"mate\", tools.cxBlend, alpha=0.5)\n",
        "    toolbox.register(\"mutate\", tools.mutGaussian, mu=0, sigma=0.2, indpb=0.2)\n",
        "    toolbox.register(\"select\", tools.selTournament, tournsize=3)\n",
        "\n",
        "    pop = toolbox.population(n=10)\n",
        "    hof = tools.HallOfFame(1)\n",
        "    algorithms.eaSimple(pop, toolbox, cxpb=0.7, mutpb=0.2, ngen=20, stats=None, halloffame=hof, verbose=False)\n",
        "    return hof[0]\n",
        "\n",
        "best_params_north = genetic_algorithm(X_train_north, y_train_north, X_test_north, y_test_north)\n",
        "best_params_south = genetic_algorithm(X_train_south, y_train_south, X_test_south, y_test_south)"
      ],
      "metadata": {
        "colab": {
          "base_uri": "https://localhost:8080/"
        },
        "id": "ZbP39gmSySVX",
        "outputId": "7e7ec450-85eb-43cd-b7d3-564c1076e194"
      },
      "execution_count": 12,
      "outputs": [
        {
          "output_type": "stream",
          "name": "stderr",
          "text": [
            "/usr/local/lib/python3.10/dist-packages/deap/creator.py:185: RuntimeWarning: A class named 'FitnessMin' has already been created and it will be overwritten. Consider deleting previous creation of that class or rename it.\n",
            "  warnings.warn(\"A class named '{0}' has already been created and it \"\n",
            "/usr/local/lib/python3.10/dist-packages/deap/creator.py:185: RuntimeWarning: A class named 'Individual' has already been created and it will be overwritten. Consider deleting previous creation of that class or rename it.\n",
            "  warnings.warn(\"A class named '{0}' has already been created and it \"\n",
            "/usr/local/lib/python3.10/dist-packages/deap/creator.py:185: RuntimeWarning: A class named 'FitnessMin' has already been created and it will be overwritten. Consider deleting previous creation of that class or rename it.\n",
            "  warnings.warn(\"A class named '{0}' has already been created and it \"\n",
            "/usr/local/lib/python3.10/dist-packages/deap/creator.py:185: RuntimeWarning: A class named 'Individual' has already been created and it will be overwritten. Consider deleting previous creation of that class or rename it.\n",
            "  warnings.warn(\"A class named '{0}' has already been created and it \"\n"
          ]
        }
      ]
    },
    {
      "cell_type": "code",
      "source": [
        "# Retrain models with best parameters\n",
        "print(\"With GA:\")\n",
        "mse_north_ga, r2_north_ga = train_model(X_train_north, y_train_north, X_test_north, y_test_north)\n",
        "mse_south_ga, r2_south_ga = train_model(X_train_south, y_train_south, X_test_south, y_test_south)\n",
        "\n",
        "print(f\"North Region - MSE: {mse_north_ga}, R2: {r2_north_ga}\")\n",
        "print(f\"South Region - MSE: {mse_south_ga}, R2: {r2_south_ga}\")\n"
      ],
      "metadata": {
        "colab": {
          "base_uri": "https://localhost:8080/"
        },
        "id": "8rWBqBDHyxpT",
        "outputId": "f075a9e6-21af-4404-fbe8-f3419bed0528"
      },
      "execution_count": 13,
      "outputs": [
        {
          "output_type": "stream",
          "name": "stdout",
          "text": [
            "With GA:\n",
            "North Region - MSE: 21.016798201090662, R2: -0.05482277608066788\n",
            "South Region - MSE: 20.25695821203497, R2: -0.07131426570565158\n"
          ]
        }
      ]
    },
    {
      "cell_type": "markdown",
      "source": [
        "**Inference**\n",
        "\n",
        "**The North and South regions:**\n",
        "\n",
        "**Without Genetic Algorithm (GA):**\n",
        "\n",
        "**North Region: **\n",
        "\n",
        "MSE (Mean Squared Error): 21.02\n",
        "\n",
        "R² (R-squared): -0.055\n",
        "\n",
        "\n",
        "**South Region:**\n",
        "\n",
        "MSE: 20.26\n",
        "\n",
        "R²: -0.071\n",
        "\n",
        "**With Genetic Algorithm (GA):**\n",
        "\n",
        "**North Region:**\n",
        "\n",
        "MSE: 21.02\n",
        "\n",
        "R²: -0.055\n",
        "\n",
        "**South Region:**\n",
        "\n",
        "MSE: 20.26\n",
        "\n",
        "R²: -0.071\n",
        "\n",
        "**Analysis of Results:**\n",
        "\n",
        "**MSE (Mean Squared Error):**\n",
        "\n",
        "MSE measures the average squared difference between the actual and predicted values. The lower the MSE, the better the model’s performance. In this case, MSE is roughly the same for both regions, indicating that the model is performing similarly in both North and South regions, regardless of whether GA is used or not.\n",
        "\n",
        "**R² (R-squared):**\n",
        "\n",
        "R² is a statistical measure that indicates how well the model explains the variability of the target variable. R² values close to 1 indicate a good fit, while values close to 0 suggest that the model doesn't explain the variability well. Here, the R² values are negative, which means that the model is performing worse than a simple mean-based model (which would have an R² of 0). The negative R² values show that the linear regression model is not well suited for this particular weather prediction task.\n",
        "\n",
        "\n",
        "**With and Without GA:**\n",
        "\n",
        "The results for both regions, with and without the use of GA, are identical. This suggests that the Genetic Algorithm did not improve the performance of the model in this case. There could be several reasons for this:\n",
        "\n",
        "The features (e.g., humidity, wind speed) may not have enough complexity to benefit from GA optimization.\n",
        "\n",
        "The model might already be well-tuned for this specific problem without the need for additional hyperparameter optimization.\n",
        "\n",
        "The model used (Linear Regression) may not be the best choice for this type of forecasting, and more complex models (e.g., Decision Trees, Random Forest, or Neural Networks) could be more appropriate.\n",
        "\n",
        "**Conclusion:**\n",
        "\n",
        "The current model, Linear Regression, does not seem to provide an accurate weather forecast, as indicated by the negative R² and moderate MSE values.\n",
        "Genetic Algorithm did not improve performance, implying that the optimization of the hyperparameters wasn't effective for this specific problem.\n",
        "It would be advisable to experiment with different models or additional features to better capture the complexity of weather prediction."
      ],
      "metadata": {
        "id": "HxVGC2FDy7zd"
      }
    }
  ]
}